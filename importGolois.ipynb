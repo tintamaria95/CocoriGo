{
  "cells": [
    {
      "cell_type": "markdown",
      "metadata": {
        "id": "view-in-github",
        "colab_type": "text"
      },
      "source": [
        "<a href=\"https://colab.research.google.com/github/tintamaria95/CocoriGo/blob/main/importGolois.ipynb\" target=\"_parent\"><img src=\"https://colab.research.google.com/assets/colab-badge.svg\" alt=\"Open In Colab\"/></a>"
      ]
    },
    {
      "cell_type": "code",
      "execution_count": 1,
      "metadata": {
        "id": "ks7AjhAto2dV",
        "colab": {
          "base_uri": "https://localhost:8080/"
        },
        "outputId": "7dec4f56-537f-450d-a2f1-6afc1a84c3ed"
      },
      "outputs": [
        {
          "output_type": "stream",
          "name": "stdout",
          "text": [
            "--2022-11-16 18:52:57--  https://www.lamsade.dauphine.fr/~cazenave/project2022.zip\n",
            "Resolving www.lamsade.dauphine.fr (www.lamsade.dauphine.fr)... 193.48.71.250\n",
            "Connecting to www.lamsade.dauphine.fr (www.lamsade.dauphine.fr)|193.48.71.250|:443... connected.\n",
            "HTTP request sent, awaiting response... 200 OK\n",
            "Length: 138784129 (132M) [application/zip]\n",
            "Saving to: ‘project2022.zip’\n",
            "\n",
            "project2022.zip     100%[===================>] 132.35M  35.6MB/s    in 4.3s    \n",
            "\n",
            "2022-11-16 18:53:02 (30.8 MB/s) - ‘project2022.zip’ saved [138784129/138784129]\n",
            "\n",
            "Archive:  project2022.zip\n",
            "  inflating: Board.h                 \n",
            "  inflating: Game.h                  \n",
            "  inflating: Rzone.h                 \n",
            "  inflating: compile.sh              \n",
            "  inflating: compileMAC.sh           \n",
            "  inflating: games.data              \n",
            "  inflating: golois.cpp              \n",
            "  inflating: golois.cpython-310-x86_64-linux-gnu.so  \n",
            "  inflating: golois.cpython-37m-x86_64-linux-gnu.so  \n",
            "  inflating: golois.cpython-38-x86_64-linux-gnu.so  \n",
            "  inflating: golois.py               \n",
            "  inflating: importGolois.ipynb      \n",
            "  inflating: zip.sh                  \n"
          ]
        }
      ],
      "source": [
        "!wget https://www.lamsade.dauphine.fr/~cazenave/project2022.zip\n",
        "!unzip project2022.zip"
      ]
    },
    {
      "cell_type": "code",
      "execution_count": null,
      "metadata": {
        "id": "SNxDy5hTfHs_"
      },
      "outputs": [],
      "source": [
        "!python golois.py"
      ]
    },
    {
      "cell_type": "code",
      "source": [
        "import tensorflow as tf\n",
        "import tensorflow.keras as keras\n",
        "import numpy as np\n",
        "from tensorflow.keras import layers \n",
        "from tensorflow.keras import regularizers\n",
        "import gc\n",
        "\n",
        "import golois\n",
        "\n",
        "planes = 31\n",
        "moves = 361\n",
        "N = 10000\n",
        "filters = 25\n",
        "\n",
        "input_data = np.random.randint(2, size=(N, 19, 19, planes))\n",
        "input_data = input_data.astype ('float32')\n",
        "\n",
        "policy = np.random.randint(moves, size=(N,))\n",
        "policy = keras.utils.to_categorical (policy)\n",
        "\n",
        "value = np.random.randint(2, size=(N,))\n",
        "value = value.astype ('float32')\n",
        "\n",
        "end = np.random.randint(2, size=(N, 19, 19, 2))\n",
        "end = end.astype ('float32')\n",
        "\n",
        "groups = np.zeros((N, 19, 19, 1))\n",
        "groups = groups.astype ('float32')\n",
        "\n",
        "\n",
        "print (\"getValidation\", flush = True)\n",
        "golois.getValidation (input_data, policy, value, end)\n",
        "\n",
        "def block(input: keras.layers, nb_filters):\n",
        "  x_1 = layers.Conv2D(filters, 3, strides=(1, 1), padding='same')(input)\n",
        "  b_1 = layers.BatchNormalization()(x_1)\n",
        "  r_1 = layers.ReLU()(b_1)\n",
        "  x_2 = layers.Conv2D(filters, 5, strides=(1, 1), padding='same')(r_1)\n",
        "  b_1_bis = layers.BatchNormalization()(x_2)\n",
        "\n",
        "  i_1 = layers.Conv2D(filters, 1, strides=(1, 1), padding='same')(input)\n",
        "  n_1 = layers.BatchNormalization()(i_1)\n",
        "\n",
        "  z_1 = tf.keras.layers.Add()([b_1_bis, n_1])\n",
        "  z_1_bis = layers.ReLU()(z_1)\n",
        "  return z_1_bis\n",
        "\n",
        "input_model = keras.Input(shape=(19, 19, planes), name='board')\n",
        "x = block(input=input_model, nb_filters=filters)\n",
        "for i in range(3):\n",
        "  x = block(x, nb_filters=filters)\n",
        "policy_head = layers.Conv2D(1, 1, activation='relu', padding='same', use_bias = False, kernel_regularizer=regularizers.l2(0.0001))(x)\n",
        "policy_head = layers.Flatten()(policy_head)\n",
        "policy_head = layers.Activation('softmax', name='policy')(policy_head)\n",
        "value_head = layers.Conv2D(1, 1, activation='relu', padding='same', use_bias = False, kernel_regularizer=regularizers.l2(0.0001))(x)\n",
        "value_head = layers.Flatten()(value_head)\n",
        "value_head = layers.Dense(50, activation='relu', kernel_regularizer=regularizers.l2(0.0001))(value_head)\n",
        "value_head = layers.Dense(1, activation='sigmoid', name='value', kernel_regularizer=regularizers.l2(0.0001))(value_head)\n",
        "model = keras.Model(inputs=input_model, outputs=[policy_head, value_head])\n",
        "\n",
        "model.summary ()\n",
        "\n",
        "model.compile(optimizer=keras.optimizers.SGD(learning_rate=0.003, momentum=.9),\n",
        "              loss={'policy': 'categorical_crossentropy', 'value': 'binary_crossentropy'},\n",
        "              loss_weights={'policy' : 1.0, 'value' : 1.0},\n",
        "              metrics={'policy': 'categorical_accuracy', 'value': 'mse'})\n",
        "\n",
        "#display(keras.utils.plot_model(model, str('test_0' + \".png\"), show_shapes=True))\n",
        "model.save ('test.h5')\n"
      ],
      "metadata": {
        "id": "EnGwpWDi0XRb"
      },
      "execution_count": null,
      "outputs": []
    },
    {
      "cell_type": "markdown",
      "source": [
        "##Réentraînement de modèle"
      ],
      "metadata": {
        "id": "YspjcRt5pFvI"
      }
    },
    {
      "cell_type": "code",
      "source": [
        "from tensorflow import keras\n",
        "import numpy as np\n",
        "from tqdm import tqdm\n",
        "import gc\n",
        "\n",
        "import golois\n",
        "\n",
        "epochs = 200\n",
        "\n",
        "planes = 31\n",
        "moves = 361\n",
        "N = 10000\n",
        "batch = 128\n",
        "\n",
        "input_data = np.random.randint(2, size=(N, 19, 19, planes))\n",
        "input_data = input_data.astype ('float32')\n",
        "policy = np.random.randint(moves, size=(N,))\n",
        "policy = keras.utils.to_categorical (policy)\n",
        "value = np.random.randint(2, size=(N,))\n",
        "value = value.astype ('float32')\n",
        "end = np.random.randint(2, size=(N, 19, 19, 2))\n",
        "end = end.astype ('float32')\n",
        "groups = np.zeros((N, 19, 19, 1))\n",
        "groups = groups.astype ('float32')\n",
        "golois.getValidation (input_data, policy, value, end)\n",
        "\n",
        "# Load models\n",
        "model_name = \"resnet_372.h5\"\n",
        "model = keras.models.load_model(model_name)\n",
        "m_names = model.metrics_names\n",
        "\n",
        "for i in tqdm(range(1, epochs + 1)):\n",
        "    # print ('epoch ' + str (i))\n",
        "    golois.getBatch (input_data, policy, value, end, groups, i * N)\n",
        "    history = model.fit(input_data,\n",
        "                        {'policy': policy, 'value': value}, \n",
        "                        epochs=1, batch_size=batch, verbose=0)\n",
        "    if (i % epochs == 0 or i % 10 == 0):\n",
        "        gc.collect ()\n",
        "        golois.getValidation (input_data, policy, value, end)\n",
        "        val = model.evaluate (input_data,\n",
        "                              [policy, value], verbose = 0, batch_size=batch)\n",
        "        print (\"policy_accuracy =\", val[3])\n",
        "        model.save (model_name)\n",
        "\n",
        "print(\"\")\n",
        "print(\"*******************\")\n",
        "print(model_name)\n",
        "for i, metric in enumerate(m_names):\n",
        "  print(metric, \":\", val[i])\n",
        "#display(keras.utils.plot_model(model, str(model_name + \".png\"), show_shapes=True))"
      ],
      "metadata": {
        "colab": {
          "base_uri": "https://localhost:8080/"
        },
        "id": "x5o27FgRpKtX",
        "outputId": "40a3975f-5944-4594-d43d-4d833ad20698"
      },
      "execution_count": null,
      "outputs": [
        {
          "output_type": "stream",
          "name": "stderr",
          "text": [
            "  5%|▌         | 10/200 [00:43<15:47,  4.99s/it]"
          ]
        },
        {
          "output_type": "stream",
          "name": "stdout",
          "text": [
            "policy_accuracy = 0.3734000027179718\n"
          ]
        },
        {
          "output_type": "stream",
          "name": "stderr",
          "text": [
            " 10%|█         | 20/200 [01:21<13:30,  4.50s/it]"
          ]
        },
        {
          "output_type": "stream",
          "name": "stdout",
          "text": [
            "policy_accuracy = 0.3833000063896179\n"
          ]
        },
        {
          "output_type": "stream",
          "name": "stderr",
          "text": [
            " 15%|█▌        | 30/200 [02:01<13:39,  4.82s/it]"
          ]
        },
        {
          "output_type": "stream",
          "name": "stdout",
          "text": [
            "policy_accuracy = 0.3750999867916107\n"
          ]
        },
        {
          "output_type": "stream",
          "name": "stderr",
          "text": [
            " 20%|██        | 40/200 [02:36<10:54,  4.09s/it]"
          ]
        },
        {
          "output_type": "stream",
          "name": "stdout",
          "text": [
            "policy_accuracy = 0.3752000033855438\n"
          ]
        },
        {
          "output_type": "stream",
          "name": "stderr",
          "text": [
            "\r 20%|██        | 41/200 [02:40<10:08,  3.83s/it]"
          ]
        }
      ]
    },
    {
      "cell_type": "markdown",
      "source": [
        "# Comparaison de modèles"
      ],
      "metadata": {
        "id": "MPAW-UCStMkm"
      }
    },
    {
      "cell_type": "code",
      "source": [
        "from tensorflow import keras\n",
        "import numpy as np\n",
        "import gc\n",
        "import os\n",
        "\n",
        "import golois\n",
        "\n",
        "planes = 31\n",
        "moves = 361\n",
        "N = 10000\n",
        "batch = 128\n",
        "\n",
        "input_data = np.random.randint(2, size=(N, 19, 19, planes))\n",
        "input_data = input_data.astype ('float32')\n",
        "policy = np.random.randint(moves, size=(N,))\n",
        "policy = keras.utils.to_categorical (policy)\n",
        "value = np.random.randint(2, size=(N,))\n",
        "value = value.astype ('float32')\n",
        "end = np.random.randint(2, size=(N, 19, 19, 2))\n",
        "end = end.astype ('float32')\n",
        "groups = np.zeros((N, 19, 19, 1))\n",
        "groups = groups.astype ('float32')\n",
        "#print (\"getValidation\", flush = True)\n",
        "golois.getValidation (input_data, policy, value, end)\n",
        "golois.getValidation (input_data, policy, value, end)\n",
        "\n",
        "# Load models\n",
        "h5_files = []\n",
        "for name in os.listdir():\n",
        "  if name[-2:] == 'h5':\n",
        "    h5_files.append(name)\n",
        "\n",
        "# if only one model\n",
        "#h5_files = ['model_resnet_Adam_lr1_10-4.h5']\n",
        "for model_filename in h5_files:\n",
        "  model = keras.models.load_model(model_filename)\n",
        "  m_names = model.metrics_names\n",
        "\n",
        "  val = model.evaluate (input_data,\n",
        "                        [policy, value], verbose = 0, batch_size=batch)\n",
        "  print(\"\")\n",
        "  print(\"*******************\")\n",
        "  print(model_filename)\n",
        "  print('Total params:', model.count_params())\n",
        "  for i, metric in enumerate(m_names):\n",
        "    print(metric, \":\", val[i])\n",
        "# display(keras.utils.plot_model(model, str(model_name + \".png\"), show_shapes=True))"
      ],
      "metadata": {
        "colab": {
          "base_uri": "https://localhost:8080/"
        },
        "id": "AMNThL0cfVE5",
        "outputId": "02cd8f45-88c0-46b9-c151-df29aeb2e88b"
      },
      "execution_count": null,
      "outputs": [
        {
          "output_type": "stream",
          "name": "stdout",
          "text": [
            "\n",
            "*******************\n",
            "model_resnet_SGD_lr2_10-3.h5\n",
            "Total params: 100071\n",
            "loss : 3.483469247817993\n",
            "policy_loss : 2.7814977169036865\n",
            "value_loss : 0.693090558052063\n",
            "policy_categorical_accuracy : 0.3434999883174896\n",
            "value_mse : 0.12001872807741165\n",
            "\n",
            "*******************\n",
            "model_resnet_SGD_lr2_10-3_parall.h5\n",
            "Total params: 98087\n",
            "loss : 3.5874218940734863\n",
            "policy_loss : 2.8910937309265137\n",
            "value_loss : 0.6874495148658752\n",
            "policy_categorical_accuracy : 0.3328000009059906\n",
            "value_mse : 0.11721362173557281\n",
            "\n",
            "*******************\n",
            "model_resnet_Adam_lr1_10-4.h5\n",
            "Total params: 99303\n",
            "loss : 3.5075764656066895\n",
            "policy_loss : 2.818538188934326\n",
            "value_loss : 0.6879618167877197\n",
            "policy_categorical_accuracy : 0.33309999108314514\n",
            "value_mse : 0.11746852099895477\n",
            "\n",
            "*******************\n",
            "model_resnet_SGD_lr5_10-3.h5\n",
            "Total params: 99303\n",
            "loss : 3.3060922622680664\n",
            "policy_loss : 2.6142449378967285\n",
            "value_loss : 0.6866090297698975\n",
            "policy_categorical_accuracy : 0.36559998989105225\n",
            "value_mse : 0.11679057776927948\n"
          ]
        }
      ]
    }
  ],
  "metadata": {
    "accelerator": "GPU",
    "colab": {
      "provenance": [],
      "include_colab_link": true
    },
    "kernelspec": {
      "display_name": "Python 3 (ipykernel)",
      "language": "python",
      "name": "python3"
    },
    "language_info": {
      "codemirror_mode": {
        "name": "ipython",
        "version": 3
      },
      "file_extension": ".py",
      "mimetype": "text/x-python",
      "name": "python",
      "nbconvert_exporter": "python",
      "pygments_lexer": "ipython3",
      "version": "3.10.6"
    },
    "gpuClass": "standard"
  },
  "nbformat": 4,
  "nbformat_minor": 0
}