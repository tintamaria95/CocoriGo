{
  "cells": [
    {
      "cell_type": "markdown",
      "metadata": {
        "id": "view-in-github",
        "colab_type": "text"
      },
      "source": [
        "<a href=\"https://colab.research.google.com/github/tintamaria95/CocoriGo/blob/resnet_bl/Projet_GO_DL.ipynb\" target=\"_parent\"><img src=\"https://colab.research.google.com/assets/colab-badge.svg\" alt=\"Open In Colab\"/></a>"
      ]
    },
    {
      "cell_type": "markdown",
      "metadata": {
        "id": "w9Bv0IPenpAI"
      },
      "source": [
        "#DL Project"
      ]
    },
    {
      "cell_type": "markdown",
      "metadata": {
        "id": "nilVnL-K5paM"
      },
      "source": [
        "##Golois import"
      ]
    },
    {
      "cell_type": "code",
      "execution_count": 1,
      "metadata": {
        "colab": {
          "base_uri": "https://localhost:8080/"
        },
        "id": "RMOqOEI_3Fma",
        "outputId": "908a287b-3bfd-4742-9fcd-8f8e31ff4b9a"
      },
      "outputs": [
        {
          "output_type": "stream",
          "name": "stdout",
          "text": [
            "--2022-11-10 12:07:37--  https://www.lamsade.dauphine.fr/~cazenave/project2022.zip\n",
            "Resolving www.lamsade.dauphine.fr (www.lamsade.dauphine.fr)... 193.48.71.250\n",
            "Connecting to www.lamsade.dauphine.fr (www.lamsade.dauphine.fr)|193.48.71.250|:443... connected.\n",
            "HTTP request sent, awaiting response... 200 OK\n",
            "Length: 138784129 (132M) [application/zip]\n",
            "Saving to: ‘project2022.zip’\n",
            "\n",
            "project2022.zip     100%[===================>] 132.35M  18.3MB/s    in 8.1s    \n",
            "\n",
            "2022-11-10 12:07:46 (16.4 MB/s) - ‘project2022.zip’ saved [138784129/138784129]\n",
            "\n",
            "Archive:  project2022.zip\n",
            "  inflating: Board.h                 \n",
            "  inflating: Game.h                  \n",
            "  inflating: Rzone.h                 \n",
            "  inflating: compile.sh              \n",
            "  inflating: compileMAC.sh           \n",
            "  inflating: games.data              \n",
            "  inflating: golois.cpp              \n",
            "  inflating: golois.cpython-310-x86_64-linux-gnu.so  \n",
            "  inflating: golois.cpython-37m-x86_64-linux-gnu.so  \n",
            "  inflating: golois.cpython-38-x86_64-linux-gnu.so  \n",
            "  inflating: golois.py               \n",
            "  inflating: importGolois.ipynb      \n",
            "  inflating: zip.sh                  \n"
          ]
        }
      ],
      "source": [
        "!wget https://www.lamsade.dauphine.fr/~cazenave/project2022.zip\n",
        "!unzip project2022.zip"
      ]
    },
    {
      "cell_type": "code",
      "execution_count": 2,
      "metadata": {
        "colab": {
          "base_uri": "https://localhost:8080/"
        },
        "id": "c0cUQD9q5sGo",
        "outputId": "e3e2af2c-4033-4ec7-943e-72f90d605838"
      },
      "outputs": [
        {
          "output_type": "stream",
          "name": "stdout",
          "text": [
            "getValidation\n",
            "r.shape = (10000, 19, 19, 31)\n",
            "nbExamples = 10000\n",
            "tcmalloc: large alloc 2400002048 bytes == 0x5744e000 @  0x7f1ac7c42887 0x7f1a4d7b70d9 0x7f1a4d7bc85f 0x7f1a4d7d106f 0x58f6e4 0x5105e2 0x5b4ee6 0x6005a3 0x607796 0x60785c 0x60a436 0x64db82 0x64dd2e 0x7f1ac783dc87 0x5b636a\n",
            "nbPositionsSGF = 29425326\n",
            "nbPositionsSGF = 29425326\n",
            "generating validation.data\n",
            "2022-11-10 12:08:34.866373: E tensorflow/stream_executor/cuda/cuda_driver.cc:271] failed call to cuInit: CUDA_ERROR_NO_DEVICE: no CUDA-capable device is detected\n",
            "Model: \"model\"\n",
            "__________________________________________________________________________________________________\n",
            " Layer (type)                   Output Shape         Param #     Connected to                     \n",
            "==================================================================================================\n",
            " board (InputLayer)             [(None, 19, 19, 31)  0           []                               \n",
            "                                ]                                                                 \n",
            "                                                                                                  \n",
            " conv2d (Conv2D)                (None, 19, 19, 32)   1024        ['board[0][0]']                  \n",
            "                                                                                                  \n",
            " conv2d_1 (Conv2D)              (None, 19, 19, 32)   9248        ['conv2d[0][0]']                 \n",
            "                                                                                                  \n",
            " conv2d_2 (Conv2D)              (None, 19, 19, 32)   9248        ['conv2d_1[0][0]']               \n",
            "                                                                                                  \n",
            " conv2d_3 (Conv2D)              (None, 19, 19, 32)   9248        ['conv2d_2[0][0]']               \n",
            "                                                                                                  \n",
            " conv2d_4 (Conv2D)              (None, 19, 19, 32)   9248        ['conv2d_3[0][0]']               \n",
            "                                                                                                  \n",
            " conv2d_5 (Conv2D)              (None, 19, 19, 32)   9248        ['conv2d_4[0][0]']               \n",
            "                                                                                                  \n",
            " conv2d_7 (Conv2D)              (None, 19, 19, 1)    32          ['conv2d_5[0][0]']               \n",
            "                                                                                                  \n",
            " conv2d_6 (Conv2D)              (None, 19, 19, 1)    32          ['conv2d_5[0][0]']               \n",
            "                                                                                                  \n",
            " flatten_1 (Flatten)            (None, 361)          0           ['conv2d_7[0][0]']               \n",
            "                                                                                                  \n",
            " flatten (Flatten)              (None, 361)          0           ['conv2d_6[0][0]']               \n",
            "                                                                                                  \n",
            " dense (Dense)                  (None, 50)           18100       ['flatten_1[0][0]']              \n",
            "                                                                                                  \n",
            " policy (Activation)            (None, 361)          0           ['flatten[0][0]']                \n",
            "                                                                                                  \n",
            " value (Dense)                  (None, 1)            51          ['dense[0][0]']                  \n",
            "                                                                                                  \n",
            "==================================================================================================\n",
            "Total params: 65,479\n",
            "Trainable params: 65,479\n",
            "Non-trainable params: 0\n",
            "__________________________________________________________________________________________________\n",
            "epoch 1\n",
            "r.shape = (10000, 19, 19, 31)\n",
            "nbExamples = 10000\n",
            "79/79 [==============================] - 42s 518ms/step - loss: 6.5921 - policy_loss: 5.8892 - value_loss: 0.6934 - policy_categorical_accuracy: 0.0026 - value_mse: 0.1216\n",
            "epoch 2\n",
            "r.shape = (10000, 19, 19, 31)\n",
            "nbExamples = 10000\n",
            "48/79 [=================>............] - ETA: 16s - loss: 6.5916 - policy_loss: 5.8890 - value_loss: 0.6932 - policy_categorical_accuracy: 0.0028 - value_mse: 0.1191Traceback (most recent call last):\n",
            "  File \"golois.py\", line 62, in <module>\n",
            "    epochs=1, batch_size=batch)\n",
            "  File \"/usr/local/lib/python3.7/dist-packages/keras/utils/traceback_utils.py\", line 64, in error_handler\n",
            "    return fn(*args, **kwargs)\n",
            "  File \"/usr/local/lib/python3.7/dist-packages/keras/engine/training.py\", line 1409, in fit\n",
            "    tmp_logs = self.train_function(iterator)\n",
            "  File \"/usr/local/lib/python3.7/dist-packages/tensorflow/python/util/traceback_utils.py\", line 150, in error_handler\n",
            "    return fn(*args, **kwargs)\n",
            "  File \"/usr/local/lib/python3.7/dist-packages/tensorflow/python/eager/def_function.py\", line 915, in __call__\n",
            "    result = self._call(*args, **kwds)\n",
            "  File \"/usr/local/lib/python3.7/dist-packages/tensorflow/python/eager/def_function.py\", line 947, in _call\n",
            "    return self._stateless_fn(*args, **kwds)  # pylint: disable=not-callable\n",
            "  File \"/usr/local/lib/python3.7/dist-packages/tensorflow/python/eager/function.py\", line 2454, in __call__\n",
            "    filtered_flat_args, captured_inputs=graph_function.captured_inputs)  # pylint: disable=protected-access\n",
            "  File \"/usr/local/lib/python3.7/dist-packages/tensorflow/python/eager/function.py\", line 1861, in _call_flat\n",
            "    ctx, args, cancellation_manager=cancellation_manager))\n",
            "  File \"/usr/local/lib/python3.7/dist-packages/tensorflow/python/eager/function.py\", line 502, in call\n",
            "    ctx=ctx)\n",
            "  File \"/usr/local/lib/python3.7/dist-packages/tensorflow/python/eager/execute.py\", line 55, in quick_execute\n",
            "    inputs, attrs, num_outputs)\n",
            "KeyboardInterrupt\n"
          ]
        }
      ],
      "source": [
        "!python golois.py"
      ]
    },
    {
      "cell_type": "markdown",
      "metadata": {
        "id": "HdKp89Bu5zxO"
      },
      "source": [
        "##Neural Network"
      ]
    },
    {
      "cell_type": "code",
      "execution_count": 10,
      "metadata": {
        "id": "akMj2iFl2a02"
      },
      "outputs": [],
      "source": [
        "import tensorflow as tf\n",
        "import tensorflow.keras as keras\n",
        "import numpy as np\n",
        "from tensorflow.keras import layers \n",
        "from tensorflow.keras import regularizers\n",
        "import gc\n",
        "\n",
        "import golois"
      ]
    },
    {
      "cell_type": "code",
      "execution_count": 11,
      "metadata": {
        "id": "yDSmjp3d2c8G"
      },
      "outputs": [],
      "source": [
        "planes = 31\n",
        "moves = 361\n",
        "N = 10000\n",
        "epochs = 10\n",
        "batch = 128\n",
        "filters = 32"
      ]
    },
    {
      "cell_type": "code",
      "execution_count": 12,
      "metadata": {
        "colab": {
          "base_uri": "https://localhost:8080/"
        },
        "id": "bPQ8Fhe9nj46",
        "outputId": "af7a3c27-29cd-49fb-d716-d232d45eaa91"
      },
      "outputs": [
        {
          "output_type": "stream",
          "name": "stdout",
          "text": [
            "getValidation\n"
          ]
        }
      ],
      "source": [
        "input_data = np.random.randint(2, size=(N, 19, 19, planes))\n",
        "input_data = input_data.astype ('float32')\n",
        "\n",
        "policy = np.random.randint(moves, size=(N,))\n",
        "policy = keras.utils.to_categorical (policy)\n",
        "\n",
        "value = np.random.randint(2, size=(N,))\n",
        "value = value.astype ('float32')\n",
        "\n",
        "end = np.random.randint(2, size=(N, 19, 19, 2))\n",
        "end = end.astype ('float32')\n",
        "\n",
        "groups = np.zeros((N, 19, 19, 1))\n",
        "groups = groups.astype ('float32')\n",
        "\n",
        "print (\"getValidation\", flush = True)\n",
        "golois.getValidation (input_data, policy, value, end)"
      ]
    },
    {
      "cell_type": "code",
      "execution_count": 13,
      "metadata": {
        "colab": {
          "base_uri": "https://localhost:8080/"
        },
        "id": "TlfjmqFf2jy2",
        "outputId": "10c40309-47a9-4a38-86e0-fac3e773d788"
      },
      "outputs": [
        {
          "output_type": "stream",
          "name": "stdout",
          "text": [
            "Model: \"model_1\"\n",
            "__________________________________________________________________________________________________\n",
            " Layer (type)                   Output Shape         Param #     Connected to                     \n",
            "==================================================================================================\n",
            " board (InputLayer)             [(None, 19, 19, 31)  0           []                               \n",
            "                                ]                                                                 \n",
            "                                                                                                  \n",
            " conv2d_6 (Conv2D)              (None, 19, 19, 32)   24832       ['board[0][0]']                  \n",
            "                                                                                                  \n",
            " conv2d_9 (Conv2D)              (None, 19, 19, 32)   1024        ['board[0][0]']                  \n",
            "                                                                                                  \n",
            " conv2d_7 (Conv2D)              (None, 19, 19, 32)   25632       ['conv2d_6[0][0]']               \n",
            "                                                                                                  \n",
            " conv2d_10 (Conv2D)             (None, 19, 19, 32)   1056        ['conv2d_9[0][0]']               \n",
            "                                                                                                  \n",
            " conv2d_8 (Conv2D)              (None, 19, 19, 32)   25632       ['conv2d_7[0][0]']               \n",
            "                                                                                                  \n",
            " conv2d_11 (Conv2D)             (None, 19, 19, 32)   1056        ['conv2d_10[0][0]']              \n",
            "                                                                                                  \n",
            " add_1 (Add)                    (None, 19, 19, 32)   0           ['conv2d_8[0][0]',               \n",
            "                                                                  'conv2d_11[0][0]']              \n",
            "                                                                                                  \n",
            " re_lu_1 (ReLU)                 (None, 19, 19, 32)   0           ['add_1[0][0]']                  \n",
            "                                                                                                  \n",
            " conv2d_13 (Conv2D)             (None, 19, 19, 1)    32          ['re_lu_1[0][0]']                \n",
            "                                                                                                  \n",
            " conv2d_12 (Conv2D)             (None, 19, 19, 1)    32          ['re_lu_1[0][0]']                \n",
            "                                                                                                  \n",
            " flatten_3 (Flatten)            (None, 361)          0           ['conv2d_13[0][0]']              \n",
            "                                                                                                  \n",
            " flatten_2 (Flatten)            (None, 361)          0           ['conv2d_12[0][0]']              \n",
            "                                                                                                  \n",
            " dense_1 (Dense)                (None, 50)           18100       ['flatten_3[0][0]']              \n",
            "                                                                                                  \n",
            " policy (Activation)            (None, 361)          0           ['flatten_2[0][0]']              \n",
            "                                                                                                  \n",
            " value (Dense)                  (None, 1)            51          ['dense_1[0][0]']                \n",
            "                                                                                                  \n",
            "==================================================================================================\n",
            "Total params: 97,447\n",
            "Trainable params: 97,447\n",
            "Non-trainable params: 0\n",
            "__________________________________________________________________________________________________\n"
          ]
        }
      ],
      "source": [
        "input = keras.Input(shape=(19, 19, planes), name='board')\n",
        "\n",
        "x_1 = layers.Conv2D(filters, 5, activation='relu', padding='same')(input)\n",
        "x_2 = layers.Conv2D(filters, 5, activation='relu', padding='same')(x_1)\n",
        "x_3 = layers.Conv2D(filters, 5, activation='relu', padding='same')(x_2)\n",
        "\n",
        "y_1 = layers.Conv2D(filters, 1, activation='relu', padding='same')(input)\n",
        "y_2 = layers.Conv2D(filters, 1, activation='relu', padding='same')(y_1)\n",
        "y_3 = layers.Conv2D(filters, 1, activation='relu', padding='same')(y_2)\n",
        "\n",
        "inter_output = tf.keras.layers.Add()([x_3, y_3])\n",
        "\n",
        "z = tf.keras.layers.ReLU()(inter_output)\n",
        "\n",
        "policy_head = layers.Conv2D(1, 1, activation='relu', padding='same', use_bias = False, kernel_regularizer=regularizers.l2(0.0001))(z)\n",
        "policy_head = layers.Flatten()(policy_head)\n",
        "policy_head = layers.Activation('softmax', name='policy')(policy_head)\n",
        "value_head = layers.Conv2D(1, 1, activation='relu', padding='same', use_bias = False, kernel_regularizer=regularizers.l2(0.0001))(z)\n",
        "value_head = layers.Flatten()(value_head)\n",
        "value_head = layers.Dense(50, activation='relu', kernel_regularizer=regularizers.l2(0.0001))(value_head)\n",
        "value_head = layers.Dense(1, activation='sigmoid', name='value', kernel_regularizer=regularizers.l2(0.0001))(value_head)\n",
        "\n",
        "model = keras.Model(inputs=input, outputs=[policy_head, value_head])\n",
        "\n",
        "model.summary ()\n",
        "\n",
        "model.compile(optimizer=keras.optimizers.SGD(learning_rate=0.0005, momentum=0.9),\n",
        "              loss={'policy': 'categorical_crossentropy', 'value': 'binary_crossentropy'},\n",
        "              loss_weights={'policy' : 1.0, 'value' : 1.0},\n",
        "              metrics={'policy': 'categorical_accuracy', 'value': 'mse'})"
      ]
    },
    {
      "cell_type": "code",
      "execution_count": null,
      "metadata": {
        "colab": {
          "base_uri": "https://localhost:8080/"
        },
        "id": "0fAVHx2s2qUe",
        "outputId": "0803d2b3-62c8-401f-f36d-e81e9ca4cede"
      },
      "outputs": [
        {
          "output_type": "stream",
          "name": "stdout",
          "text": [
            "epoch 1\n",
            "79/79 [==============================] - 70s 872ms/step - loss: 6.6032 - policy_loss: 5.8968 - value_loss: 0.6971 - policy_categorical_accuracy: 0.0022 - value_mse: 0.1234\n",
            "epoch 2\n",
            "79/79 [==============================] - 67s 849ms/step - loss: 6.5939 - policy_loss: 5.8889 - value_loss: 0.6956 - policy_categorical_accuracy: 0.0030 - value_mse: 0.1206\n",
            "epoch 3\n",
            "79/79 [==============================] - 64s 814ms/step - loss: 6.5668 - policy_loss: 5.8632 - value_loss: 0.6941 - policy_categorical_accuracy: 0.0063 - value_mse: 0.1210\n",
            "epoch 4\n",
            "79/79 [==============================] - 65s 819ms/step - loss: 6.4559 - policy_loss: 5.7511 - value_loss: 0.6953 - policy_categorical_accuracy: 0.0114 - value_mse: 0.1218\n",
            "epoch 5\n",
            "60/79 [=====================>........] - ETA: 16s - loss: 6.3294 - policy_loss: 5.6251 - value_loss: 0.6949 - policy_categorical_accuracy: 0.0099 - value_mse: 0.1202"
          ]
        }
      ],
      "source": [
        "for i in range (1, epochs + 1):\n",
        "    print ('epoch ' + str (i))\n",
        "    golois.getBatch (input_data, policy, value, end, groups, i * N)\n",
        "    history = model.fit(input_data,\n",
        "                        {'policy': policy, 'value': value}, \n",
        "                        epochs=1, batch_size=batch)\n",
        "    if (i % 5 == 0):\n",
        "        gc.collect ()\n",
        "    if (i % 20 == 0):\n",
        "        golois.getValidation (input_data, policy, value, end)\n",
        "        val = model.evaluate (input_data,\n",
        "                              [policy, value], verbose = 0, batch_size=batch)\n",
        "        print (\"val =\", val)\n",
        "        model.save ('test.h5')"
      ]
    },
    {
      "cell_type": "code",
      "execution_count": null,
      "metadata": {
        "id": "U7xgcJAp7Bw4"
      },
      "outputs": [],
      "source": []
    }
  ],
  "metadata": {
    "colab": {
      "collapsed_sections": [],
      "provenance": [],
      "authorship_tag": "ABX9TyP5KXogci+ViJvQKDZ4GRnD",
      "include_colab_link": true
    },
    "kernelspec": {
      "display_name": "Python 3",
      "name": "python3"
    },
    "language_info": {
      "name": "python"
    }
  },
  "nbformat": 4,
  "nbformat_minor": 0
}